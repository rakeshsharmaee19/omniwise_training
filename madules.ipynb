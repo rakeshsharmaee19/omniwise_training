{
 "cells": [
  {
   "cell_type": "code",
   "execution_count": 6,
   "id": "d3fe042c",
   "metadata": {},
   "outputs": [
    {
     "name": "stdout",
     "output_type": "stream",
     "text": [
      "Hello! rakesh, You are in example module.\n"
     ]
    }
   ],
   "source": [
    "#modules and packages\n",
    "import modules1\n",
    "modules1.print_name('rakesh')"
   ]
  },
  {
   "cell_type": "code",
   "execution_count": null,
   "id": "ac80537b",
   "metadata": {},
   "outputs": [],
   "source": [
    "#type of modules\n",
    "#1 inbuilt module\n",
    "#2 user-define module\n",
    "\n",
    "#above module1 and module are user define module\n"
   ]
  },
  {
   "cell_type": "code",
   "execution_count": 7,
   "id": "5f64f221",
   "metadata": {},
   "outputs": [
    {
     "name": "stdout",
     "output_type": "stream",
     "text": [
      "Value of cos30 is: 0.15425144988758405\n",
      "Value of tan10 is: 0.6483608274590866\n",
      "Value of pie is: 3.141592653589793\n",
      "The random number generated using random int function: 17\n"
     ]
    }
   ],
   "source": [
    "#inbuilt module\n",
    "#calling modules\n",
    "import math # this is math module\n",
    "import random # this is a random module\n",
    "\n",
    "# now we use some of the math and random module function to check whether the modules are working or not?\n",
    "cos30 = math.cos(30)\n",
    "tan10 = math.tan(10)\n",
    "pie = math.pi\n",
    "\n",
    "# now using random module to generate some random numbers\n",
    "random_int = random.randint(0,20)\n",
    "\n",
    "\n",
    "print(f\"Value of cos30 is: {cos30}\")\n",
    "print(f\"Value of tan10 is: {tan10}\")\n",
    "print(f\"Value of pie is: {pie}\")\n",
    "print(f\"The random number generated using random int function: {random_int}\")"
   ]
  },
  {
   "cell_type": "code",
   "execution_count": 16,
   "id": "ece6a67b",
   "metadata": {},
   "outputs": [
    {
     "ename": "AttributeError",
     "evalue": "module 'modules1' has no attribute 'factorial'",
     "output_type": "error",
     "traceback": [
      "\u001b[1;31m---------------------------------------------------------------------------\u001b[0m",
      "\u001b[1;31mAttributeError\u001b[0m                            Traceback (most recent call last)",
      "Input \u001b[1;32mIn [16]\u001b[0m, in \u001b[0;36m<cell line: 3>\u001b[1;34m()\u001b[0m\n\u001b[0;32m      1\u001b[0m \u001b[38;5;66;03m#user define modules with variable\u001b[39;00m\n\u001b[0;32m      2\u001b[0m \u001b[38;5;28;01mfrom\u001b[39;00m \u001b[38;5;21;01mmodules1\u001b[39;00m \u001b[38;5;28;01mimport\u001b[39;00m \u001b[38;5;241m*\u001b[39m\n\u001b[1;32m----> 3\u001b[0m fact_of_6 \u001b[38;5;241m=\u001b[39m \u001b[43mmodules1\u001b[49m\u001b[38;5;241;43m.\u001b[39;49m\u001b[43mfactorial\u001b[49m(\u001b[38;5;241m6\u001b[39m)\n\u001b[0;32m      4\u001b[0m power_of_6 \u001b[38;5;241m=\u001b[39m modules1\u001b[38;5;241m.\u001b[39mpower[\u001b[38;5;241m6\u001b[39m]\n\u001b[0;32m      5\u001b[0m alphabet_2 \u001b[38;5;241m=\u001b[39m modules1\u001b[38;5;241m.\u001b[39malphabets[\u001b[38;5;241m1\u001b[39m]\n",
      "\u001b[1;31mAttributeError\u001b[0m: module 'modules1' has no attribute 'factorial'"
     ]
    }
   ],
   "source": [
    "#user define modules with variable\n",
    "from modules1 import *\n",
    "fact_of_6 = modules1.factorial(6)\n",
    "power_of_6 = modules1.power[6]\n",
    "alphabet_2 = modules1.alphabets[1]\n",
    "print(f\"The factorial of 6 is : {fact_of_6}\")\n",
    "print(f\"Power of 6 is : {power_of_6}\")\n",
    "print(f\"Second Alphabet is : {alphabrt_2}\")"
   ]
  },
  {
   "cell_type": "code",
   "execution_count": 17,
   "id": "8c36aa37",
   "metadata": {},
   "outputs": [
    {
     "name": "stdout",
     "output_type": "stream",
     "text": [
      "22 12\n"
     ]
    }
   ],
   "source": [
    "def function1(var1):\n",
    "    var1=var1+10\n",
    "    print (var1,end=\" \")\n",
    "var1=12\n",
    "function1(var1)\n",
    "print(var1)"
   ]
  }
 ],
 "metadata": {
  "kernelspec": {
   "display_name": "Python 3 (ipykernel)",
   "language": "python",
   "name": "python3"
  },
  "language_info": {
   "codemirror_mode": {
    "name": "ipython",
    "version": 3
   },
   "file_extension": ".py",
   "mimetype": "text/x-python",
   "name": "python",
   "nbconvert_exporter": "python",
   "pygments_lexer": "ipython3",
   "version": "3.9.12"
  }
 },
 "nbformat": 4,
 "nbformat_minor": 5
}
