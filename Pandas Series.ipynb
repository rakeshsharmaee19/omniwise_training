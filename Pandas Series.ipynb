{
 "cells": [
  {
   "cell_type": "code",
   "execution_count": 1,
   "id": "191d3f94",
   "metadata": {},
   "outputs": [],
   "source": [
    "import pandas as pd"
   ]
  },
  {
   "cell_type": "code",
   "execution_count": 2,
   "id": "67e9fc02",
   "metadata": {},
   "outputs": [],
   "source": [
    "import numpy as np"
   ]
  },
  {
   "cell_type": "code",
   "execution_count": 4,
   "id": "a987dc66",
   "metadata": {},
   "outputs": [
    {
     "name": "stdout",
     "output_type": "stream",
     "text": [
      "Series([], dtype: float64)\n"
     ]
    },
    {
     "name": "stderr",
     "output_type": "stream",
     "text": [
      "C:\\Users\\Rakesh\\AppData\\Local\\Temp\\ipykernel_8120\\446026886.py:2: FutureWarning: The default dtype for empty Series will be 'object' instead of 'float64' in a future version. Specify a dtype explicitly to silence this warning.\n",
      "  emptySeries=pd.Series()\n"
     ]
    }
   ],
   "source": [
    "#creating an empty series\n",
    "emptySeries=pd.Series()\n",
    "print(emptySeries)"
   ]
  },
  {
   "cell_type": "code",
   "execution_count": 5,
   "id": "d20015c5",
   "metadata": {},
   "outputs": [
    {
     "name": "stdout",
     "output_type": "stream",
     "text": [
      "0    1\n",
      "1    2\n",
      "2    3\n",
      "3    6\n",
      "4    5\n",
      "5    8\n",
      "6    5\n",
      "7    4\n",
      "8    9\n",
      "dtype: int32\n"
     ]
    }
   ],
   "source": [
    "#creating series using input\n",
    "#using List\n",
    "arraySeries=np.array([1,2,3,6,5,8,5,4,9])\n",
    "arraySeries1=pd.Series(arraySeries)\n",
    "print(arraySeries1)"
   ]
  },
  {
   "cell_type": "code",
   "execution_count": 6,
   "id": "8ae636e4",
   "metadata": {},
   "outputs": [
    {
     "name": "stdout",
     "output_type": "stream",
     "text": [
      "0       1\n",
      "1       5\n",
      "2       2\n",
      "3       6\n",
      "4       5\n",
      "5     dfg\n",
      "6    True\n",
      "dtype: object\n"
     ]
    }
   ],
   "source": [
    "array1=[1,5,2,6,5,'dfg',True]\n",
    "arrayPrint=pd.Series(array1)\n",
    "print(arrayPrint)"
   ]
  },
  {
   "cell_type": "code",
   "execution_count": 17,
   "id": "7aafb306",
   "metadata": {},
   "outputs": [
    {
     "name": "stdout",
     "output_type": "stream",
     "text": [
      "5    X\n",
      "2    Y\n",
      "3    Z\n",
      "dtype: object\n"
     ]
    }
   ],
   "source": [
    "#Using Dict\n",
    "myDictionary={5:'X',2:'Y',3:'Z'}\n",
    "dictionaryArray=pd.Series(myDictionary)\n",
    "print(dictionaryArray)"
   ]
  },
  {
   "cell_type": "code",
   "execution_count": 20,
   "id": "aeeb0ee1",
   "metadata": {},
   "outputs": [
    {
     "name": "stdout",
     "output_type": "stream",
     "text": [
      "firstName    Rakesh\n",
      "lastName     Sharma\n",
      "dtype: object\n",
      "1    y\n",
      "dtype: object\n"
     ]
    }
   ],
   "source": [
    "myDictionary={'firstName':'Rakesh','lastName':'Sharma'}\n",
    "pandasArray=pd.Series(myDictionary)\n",
    "print(pandasArray)\n",
    "\n",
    "#If we provide the index then values correspondent to that particular index will be extracted\n",
    "myDictio={1:'y',2:'p'}\n",
    "pA=pd.Series(myDictio,index=[1])\n",
    "print(pA)"
   ]
  },
  {
   "cell_type": "code",
   "execution_count": 16,
   "id": "b72eea25",
   "metadata": {},
   "outputs": [
    {
     "name": "stdout",
     "output_type": "stream",
     "text": [
      "0    4\n",
      "1    4\n",
      "2    4\n",
      "3    4\n",
      "4    4\n",
      "5    4\n",
      "6    4\n",
      "7    4\n",
      "8    4\n",
      "9    4\n",
      "dtype: int64\n",
      "r    4\n",
      "y    4\n",
      "c    4\n",
      "dtype: int64\n"
     ]
    }
   ],
   "source": [
    "#using Scalar\n",
    "arrayPandas=pd.Series(4,index=range(10))\n",
    "print(arrayPandas)\n",
    "\n",
    "#without using range()\n",
    "arrayPandas=pd.Series(4,index=['r','y','c'])\n",
    "print(arrayPandas)\n"
   ]
  },
  {
   "cell_type": "code",
   "execution_count": 26,
   "id": "2112b42c",
   "metadata": {},
   "outputs": [
    {
     "name": "stdout",
     "output_type": "stream",
     "text": [
      "3       1\n",
      "7       5\n",
      "5       2\n",
      "9       6\n",
      "5       5\n",
      "6     dfg\n",
      "p    True\n",
      "dtype: object\n",
      "1\n",
      "True\n"
     ]
    }
   ],
   "source": [
    "array1=[1,5,2,6,5,'dfg',True]\n",
    "arrayPrint=pd.Series(array1, index=[3,7,5,9,5,6,'p'])\n",
    "print(arrayPrint)\n",
    "#print(arrayPrint[0])\n",
    "print(arrayPrint[3])\n",
    "print(arrayPrint['p'])"
   ]
  },
  {
   "cell_type": "code",
   "execution_count": 29,
   "id": "87b1c08d",
   "metadata": {},
   "outputs": [
    {
     "name": "stdout",
     "output_type": "stream",
     "text": [
      "Index([3, 7, 5, 9, 5, 6, 'p'], dtype='object')\n",
      "[1 5 2 6 5 'dfg' True]\n",
      "RangeIndex(start=0, stop=9, step=1)\n",
      "[1 2 3 6 5 8 5 4 9]\n"
     ]
    }
   ],
   "source": [
    "#Sries object attributes\n",
    "#Series.index\n",
    "print(arrayPrint.index)\n",
    "print(arrayPrint.values)\n",
    "print(arraySeries1.index)\n",
    "print(arraySeries1.values)"
   ]
  },
  {
   "cell_type": "code",
   "execution_count": 35,
   "id": "2921d9e0",
   "metadata": {},
   "outputs": [
    {
     "name": "stdout",
     "output_type": "stream",
     "text": [
      "object\n",
      "int32\n",
      "(7,)\n",
      "7\n",
      "1\n",
      "56\n",
      "<bound method Series.count of 3       1\n",
      "7       5\n",
      "5       2\n",
      "9       6\n",
      "5       5\n",
      "6     dfg\n",
      "p    True\n",
      "dtype: object>\n",
      "7\n"
     ]
    }
   ],
   "source": [
    "# Series dtype and itemsize\n",
    "print(arrayPrint.dtype)\n",
    "#print(arrayPrint.itemsize)\n",
    "print(arraySeries1.dtype)\n",
    "#print(arraySeries1.itemsize)\n",
    "print(arrayPrint.shape)\n",
    "print(arrayPrint.size)\n",
    "print(arrayPrint.ndim)\n",
    "print(arrayPrint.nbytes)\n",
    "print(arrayPrint.count)\n",
    "print(len(arrayPrint))"
   ]
  },
  {
   "cell_type": "code",
   "execution_count": null,
   "id": "7f728e61",
   "metadata": {},
   "outputs": [],
   "source": []
  }
 ],
 "metadata": {
  "kernelspec": {
   "display_name": "Python 3 (ipykernel)",
   "language": "python",
   "name": "python3"
  },
  "language_info": {
   "codemirror_mode": {
    "name": "ipython",
    "version": 3
   },
   "file_extension": ".py",
   "mimetype": "text/x-python",
   "name": "python",
   "nbconvert_exporter": "python",
   "pygments_lexer": "ipython3",
   "version": "3.9.12"
  }
 },
 "nbformat": 4,
 "nbformat_minor": 5
}
