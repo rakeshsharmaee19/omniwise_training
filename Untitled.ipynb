{
 "cells": [
  {
   "cell_type": "markdown",
   "id": "eb61c8c8",
   "metadata": {},
   "source": [
    "# File Handling"
   ]
  },
  {
   "cell_type": "raw",
   "id": "781bbade",
   "metadata": {},
   "source": [
    "File handling in computer science means working with files stored on the disk.\n",
    "This includes creating, deleting, opening or closing files and writing, reading or modifying data stored in those files."
   ]
  },
  {
   "cell_type": "raw",
   "id": "70f84fc3",
   "metadata": {},
   "source": [
    "Open(filename,mode)\n",
    "This function takes two arguments. First is the filename along with its complete path and the other is access mode.\n",
    "file=open('text.txt',mode='r')"
   ]
  },
  {
   "cell_type": "raw",
   "id": "c6a14ad7",
   "metadata": {},
   "source": [
    "Close()\n",
    "This function don't take any argument and you can directly call close function using file object\n",
    "file.close()"
   ]
  },
  {
   "cell_type": "raw",
   "id": "31103de5",
   "metadata": {},
   "source": [
    "You can use 'with' statement with open also as it provides better exception handling and simplifies it \n",
    "with by providing some cleanup tasks. \n",
    "Also it will automatically close the file and you don't have to do it manually.\n",
    "\n",
    "with open('text.txt',mode='r') as p\n",
    "#perform operations\n",
    "\n",
    "the more safer way is using try and finally block\n",
    "\n",
    "try:\n",
    "    file = open('test.txt',mode='r')\n",
    "    # Perform file handling operations\n",
    "finally:\n",
    "    file.close()"
   ]
  },
  {
   "cell_type": "code",
   "execution_count": null,
   "id": "3c0ea924",
   "metadata": {},
   "outputs": [],
   "source": []
  }
 ],
 "metadata": {
  "kernelspec": {
   "display_name": "Python 3 (ipykernel)",
   "language": "python",
   "name": "python3"
  },
  "language_info": {
   "codemirror_mode": {
    "name": "ipython",
    "version": 3
   },
   "file_extension": ".py",
   "mimetype": "text/x-python",
   "name": "python",
   "nbconvert_exporter": "python",
   "pygments_lexer": "ipython3",
   "version": "3.9.12"
  }
 },
 "nbformat": 4,
 "nbformat_minor": 5
}
