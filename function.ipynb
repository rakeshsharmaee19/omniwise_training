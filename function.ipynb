{
 "cells": [
  {
   "cell_type": "code",
   "execution_count": 3,
   "id": "df893bbb",
   "metadata": {},
   "outputs": [
    {
     "name": "stdout",
     "output_type": "stream",
     "text": [
      "Hello\n"
     ]
    }
   ],
   "source": [
    "#Function\n",
    "def myFunc():\n",
    "    print('Hello')\n",
    "myFunc()"
   ]
  },
  {
   "cell_type": "code",
   "execution_count": 4,
   "id": "5d885c4f",
   "metadata": {},
   "outputs": [
    {
     "name": "stdout",
     "output_type": "stream",
     "text": [
      "Initial value of i in main: 5\n",
      "Initial address of i in main: 2214781807024\n",
      "Initial value of n in inc: 5\n",
      "Initial address of n in inc: 2214781807024\n",
      "Final value of n in inc: 6\n",
      "Final address of n in inc: 2214781807056\n",
      "Final value of i in main:5\n",
      "Final address of i in main: 2214781807024\n"
     ]
    }
   ],
   "source": [
    "#pass by reference and value\n",
    "def main():\n",
    "   i = 5\n",
    "   print(f\"Initial value of i in main: {i}\")\n",
    "   print(f\"Initial address of i in main: {id(i)}\")\n",
    "   inc(i)\n",
    "   print(f\"Final value of i in main:{i}\")\n",
    "   print(f\"Final address of i in main: {id(i)}\")\n",
    " \n",
    "def inc(n):\n",
    "   print(f\"Initial value of n in inc: {n}\")\n",
    "   print(f\"Initial address of n in inc: {id(n)}\")\n",
    "   n = n+1\n",
    "   print(f\"Final value of n in inc: {n}\")\n",
    "   print(f\"Final address of n in inc: {id(n)}\")\n",
    " \n",
    "main()"
   ]
  },
  {
   "cell_type": "code",
   "execution_count": 5,
   "id": "b6353941",
   "metadata": {},
   "outputs": [
    {
     "name": "stdout",
     "output_type": "stream",
     "text": [
      "Inside Function:  [5, 10, 15, 20, 25, 30, 35]\n",
      "Outside Function:  [5, 10, 15, 20, 25, 30, 35]\n"
     ]
    }
   ],
   "source": [
    "def append_to_list(list1):\n",
    "   list1.append(35)\n",
    "   print(\"Inside Function: \", list1)\n",
    " \n",
    "multiples_of_5 = [5,10,15,20,25,30]\n",
    "append_to_list(multiples_of_5)\n",
    "print(\"Outside Function: \", multiples_of_5)"
   ]
  },
  {
   "cell_type": "code",
   "execution_count": 10,
   "id": "ab34ff87",
   "metadata": {},
   "outputs": [
    {
     "name": "stdout",
     "output_type": "stream",
     "text": [
      "2214781807056\n",
      "2214781807056\n",
      "6\n",
      "Inside Function: 7\n",
      "2214781807088\n",
      "Outside Function: 6\n",
      "2214781807056\n"
     ]
    }
   ],
   "source": [
    "#call by value, copy of parameter value is stored in the memory, hence these changes are not reflected in the function call\n",
    "string = 6\n",
    "print(id(string))\n",
    "def greet(n):\n",
    "    print(id(n))\n",
    "    print(n)\n",
    "    n=n+1\n",
    "    print(\"Inside Function:\",n)\n",
    "    print(id(n))   \n",
    "greet(string)\n",
    "print(\"Outside Function:\", string)\n",
    "print(id(string))"
   ]
  },
  {
   "cell_type": "code",
   "execution_count": 9,
   "id": "eaa55ad8",
   "metadata": {},
   "outputs": [
    {
     "name": "stdout",
     "output_type": "stream",
     "text": [
      "2214896907392\n",
      "[5]\n",
      "2214896907392\n",
      "[5]\n",
      "2214896907392\n"
     ]
    }
   ],
   "source": [
    "#call by reference, in call by reference a copy of the address of the actual parameter is stored and any change in parameter refelct\n",
    "sv=[]\n",
    "print(id(sv))\n",
    "def ss(s):\n",
    "    s.append(5)\n",
    "    print(s)\n",
    "    print(id(s))\n",
    "ss(sv)\n",
    "print(sv)\n",
    "print(id(sv))"
   ]
  },
  {
   "cell_type": "code",
   "execution_count": 11,
   "id": "a09451f0",
   "metadata": {},
   "outputs": [
    {
     "name": "stdout",
     "output_type": "stream",
     "text": [
      "Hello Anna\n"
     ]
    },
    {
     "ename": "TypeError",
     "evalue": "hello() missing 1 required positional argument: 'name'",
     "output_type": "error",
     "traceback": [
      "\u001b[1;31m---------------------------------------------------------------------------\u001b[0m",
      "\u001b[1;31mTypeError\u001b[0m                                 Traceback (most recent call last)",
      "Input \u001b[1;32mIn [11]\u001b[0m, in \u001b[0;36m<cell line: 9>\u001b[1;34m()\u001b[0m\n\u001b[0;32m      6\u001b[0m hello(\u001b[38;5;124m\"\u001b[39m\u001b[38;5;124mAnna\u001b[39m\u001b[38;5;124m\"\u001b[39m)\n\u001b[0;32m      8\u001b[0m \u001b[38;5;66;03m#case2 throw an error\u001b[39;00m\n\u001b[1;32m----> 9\u001b[0m \u001b[43mhello\u001b[49m\u001b[43m(\u001b[49m\u001b[43m)\u001b[49m\n\u001b[0;32m     11\u001b[0m \u001b[38;5;66;03m#case3 throw an error\u001b[39;00m\n\u001b[0;32m     12\u001b[0m hello(\u001b[38;5;124m'\u001b[39m\u001b[38;5;124ma\u001b[39m\u001b[38;5;124m'\u001b[39m,\u001b[38;5;124m'\u001b[39m\u001b[38;5;124mb\u001b[39m\u001b[38;5;124m'\u001b[39m)\n",
      "\u001b[1;31mTypeError\u001b[0m: hello() missing 1 required positional argument: 'name'"
     ]
    }
   ],
   "source": [
    "# Required Arguments\n",
    "# exact number of arguments are required to be passed in the order in which it is defined in the Function\n",
    "#case1\n",
    "def hello(name):\n",
    "    print (\"Hello\", name)\n",
    "hello(\"Anna\")\n",
    "\n",
    "#case2 throw an error\n",
    "hello()\n",
    "\n",
    "#case3 throw an error\n",
    "hello('a','b')"
   ]
  },
  {
   "cell_type": "code",
   "execution_count": 12,
   "id": "0745eace",
   "metadata": {},
   "outputs": [
    {
     "ename": "TypeError",
     "evalue": "hello() takes 1 positional argument but 2 were given",
     "output_type": "error",
     "traceback": [
      "\u001b[1;31m---------------------------------------------------------------------------\u001b[0m",
      "\u001b[1;31mTypeError\u001b[0m                                 Traceback (most recent call last)",
      "Input \u001b[1;32mIn [12]\u001b[0m, in \u001b[0;36m<cell line: 2>\u001b[1;34m()\u001b[0m\n\u001b[0;32m      1\u001b[0m \u001b[38;5;66;03m#case3 throw an error\u001b[39;00m\n\u001b[1;32m----> 2\u001b[0m \u001b[43mhello\u001b[49m\u001b[43m(\u001b[49m\u001b[38;5;124;43m'\u001b[39;49m\u001b[38;5;124;43ma\u001b[39;49m\u001b[38;5;124;43m'\u001b[39;49m\u001b[43m,\u001b[49m\u001b[38;5;124;43m'\u001b[39;49m\u001b[38;5;124;43mb\u001b[39;49m\u001b[38;5;124;43m'\u001b[39;49m\u001b[43m)\u001b[49m\n",
      "\u001b[1;31mTypeError\u001b[0m: hello() takes 1 positional argument but 2 were given"
     ]
    }
   ],
   "source": [
    "#case3 throw an error\n",
    "hello('a','b')"
   ]
  },
  {
   "cell_type": "code",
   "execution_count": 16,
   "id": "afe5f62b",
   "metadata": {},
   "outputs": [
    {
     "name": "stdout",
     "output_type": "stream",
     "text": [
      "Hello Murthy Sunny\n",
      "Hello Anne Sullivan\n",
      "Hello Sundar Pichai\n",
      "Hello Narendra Modi\n",
      "Hello Sunny Murthy\n"
     ]
    }
   ],
   "source": [
    "# keyword arguments \n",
    "#a function can be called by providing parameter values in any order,\n",
    "#as long as the parameter names are mentioned along with them\n",
    "#normal arguments\n",
    "def hello(fname, lname):\n",
    "    print('Hello', fname, lname)\n",
    "hello('Murthy','Sunny')\n",
    "\n",
    "#keyword arguments\n",
    "def hello(**name):\n",
    "    print(\"Hello\", name['fname'], name['lname'])\n",
    "hello(fname=\"Anne\", lname=\"Sullivan\")\n",
    "hello(lname=\"Pichai\", fname=\"Sundar\")\n",
    "hello(fname=\"Narendra\", mname=\"Damodar\", lname=\"Modi\")\n",
    "#hello(fname=\"Bill\") #gives error\n",
    "\n",
    "##\n",
    "def hello(fname, lname):\n",
    "    print('Hello', fname, lname)\n",
    "hello(lname='Murthy', fname='Sunny')"
   ]
  },
  {
   "cell_type": "code",
   "execution_count": 18,
   "id": "639470a8",
   "metadata": {},
   "outputs": [
    {
     "name": "stdout",
     "output_type": "stream",
     "text": [
      "Hello Anna\n",
      "Hello Rohan\n"
     ]
    }
   ],
   "source": [
    "#Default arguments\n",
    "# in case a local value isn’t passed. In such cases, the default value will be used inside the Function\n",
    "def hello (name=\"Anna\"):\n",
    "    print(\"Hello\", name)\n",
    "hello()\n",
    "hello(\"Rohan\")"
   ]
  },
  {
   "cell_type": "code",
   "execution_count": 22,
   "id": "7d9beab1",
   "metadata": {},
   "outputs": [
    {
     "name": "stdout",
     "output_type": "stream",
     "text": [
      "product: 4096\n"
     ]
    }
   ],
   "source": [
    "#Variable length arguments\n",
    "#*args, which allows us to pass a variable number of non-keyword arguments to a function\n",
    "def multiplyNumbers(*numbers):\n",
    "    product=1\n",
    "    for n in numbers:\n",
    "        product*=n\n",
    "    return product\n",
    " \n",
    "print(\"product:\",multiplyNumbers(4,4,4,4,4,4))"
   ]
  },
  {
   "cell_type": "code",
   "execution_count": 1,
   "id": "cd7bcfd2",
   "metadata": {},
   "outputs": [
    {
     "name": "stdout",
     "output_type": "stream",
     "text": [
      "<class 'dict'>\n",
      "Sentence: Kwargs are awesome!\n",
      "I am  007\n",
      "I am arg:  agent\n",
      "I am kwarg:  ('firstName', 'James')\n",
      "I am kwarg:  ('lastName', 'Bond')\n"
     ]
    }
   ],
   "source": [
    "#**kwargs allows us to pass any number of keyword arguments.\n",
    "def makeSentence(**words):\n",
    "    print(type(words))\n",
    "    sentence=''\n",
    "    for word in words.values():\n",
    "        sentence+=word\n",
    "    return sentence\n",
    " \n",
    "print('Sentence:', makeSentence(a='Kwargs ',b='are ', c='awesome!'))\n",
    "\n",
    "def printingData(codeName, *args, **kwargs):\n",
    "    print(\"I am \", codeName)\n",
    "    for arg in args:\n",
    "        print(\"I am arg: \", arg)\n",
    "    for keyWord in kwargs.items():\n",
    "        print(\"I am kwarg: \", keyWord)\n",
    "printingData('007', 'agent', firstName='James', lastName='Bond') "
   ]
  },
  {
   "cell_type": "code",
   "execution_count": 19,
   "id": "80793af9",
   "metadata": {},
   "outputs": [
    {
     "name": "stdout",
     "output_type": "stream",
     "text": [
      "x in = 5\n",
      "x out= 5\n"
     ]
    }
   ],
   "source": [
    "#Scope of variable\n",
    "#Global\n",
    "x = 5\n",
    "def f1():\n",
    "    print(\"x in =\", x)\n",
    "f1()\n",
    "print(\"x out=\", x)"
   ]
  },
  {
   "cell_type": "code",
   "execution_count": 20,
   "id": "298640a3",
   "metadata": {},
   "outputs": [
    {
     "ename": "NameError",
     "evalue": "name 'y' is not defined",
     "output_type": "error",
     "traceback": [
      "\u001b[1;31m---------------------------------------------------------------------------\u001b[0m",
      "\u001b[1;31mNameError\u001b[0m                                 Traceback (most recent call last)",
      "Input \u001b[1;32mIn [20]\u001b[0m, in \u001b[0;36m<cell line: 4>\u001b[1;34m()\u001b[0m\n\u001b[0;32m      2\u001b[0m     y \u001b[38;5;241m=\u001b[39m \u001b[38;5;241m3\u001b[39m\n\u001b[0;32m      3\u001b[0m f2()\n\u001b[1;32m----> 4\u001b[0m \u001b[38;5;28mprint\u001b[39m(\u001b[43my\u001b[49m)\n",
      "\u001b[1;31mNameError\u001b[0m: name 'y' is not defined"
     ]
    }
   ],
   "source": [
    "def f2():\n",
    "    y = 3\n",
    "f2()\n",
    "print(y)"
   ]
  },
  {
   "cell_type": "code",
   "execution_count": 21,
   "id": "e0cc8389",
   "metadata": {},
   "outputs": [
    {
     "name": "stdout",
     "output_type": "stream",
     "text": [
      "Local x: 200\n",
      "Global x: 15\n"
     ]
    }
   ],
   "source": [
    "x = 15\n",
    "def f4():\n",
    "    x = 200\n",
    "    print(\"Local x:\", x)\n",
    "f4()\n",
    "print(\"Global x:\", x)"
   ]
  },
  {
   "cell_type": "code",
   "execution_count": 25,
   "id": "fd909fc8",
   "metadata": {},
   "outputs": [
    {
     "name": "stdout",
     "output_type": "stream",
     "text": [
      "9\n",
      "9\n"
     ]
    }
   ],
   "source": [
    "#lamda function\n",
    "def sum(num1, num2):\n",
    "    return (num1 + num2)\n",
    " \n",
    "# Equivalent lambda function\n",
    "sum_lambda = lambda num1, num2 : num1 + num2\n",
    "\n",
    "print (sum(5,4)) #9\n",
    "print(sum_lambda(5, 4)) #9"
   ]
  },
  {
   "cell_type": "code",
   "execution_count": 29,
   "id": "32ceb5aa",
   "metadata": {},
   "outputs": [
    {
     "name": "stdout",
     "output_type": "stream",
     "text": [
      "[2, 4, 6, 8]\n"
     ]
    }
   ],
   "source": [
    "#List of numbers\n",
    "numbers = [1,2,3,4,5,6,7,8]\n",
    " \n",
    "# one liner code to make list of even numbers using filter() function\n",
    "even_no = list(filter((lambda x : x % 2 == 0), numbers))\n",
    " \n",
    "# even numbers list\n",
    "print(even_no) # [2, 4, 6, 8]"
   ]
  },
  {
   "cell_type": "code",
   "execution_count": 31,
   "id": "99de5704",
   "metadata": {},
   "outputs": [
    {
     "name": "stdout",
     "output_type": "stream",
     "text": [
      "[1, 4, 9, 16, 25, 36, 49, 64, 81, 100]\n"
     ]
    }
   ],
   "source": [
    "# Given list of numbers\n",
    "numbers = [1, 2, 3, 4, 5, 6, 7, 8, 9, 10]\n",
    " \n",
    "# One liner code to create the list of squares of the numbers using map() function\n",
    "sq_numbers = list(map((lambda x : x*x), numbers))\n",
    " \n",
    "# Printing the new list\n",
    "print(sq_numbers) # [1, 4, 9, 16, 25, 36, 49, 64, 81, 100]"
   ]
  },
  {
   "cell_type": "code",
   "execution_count": null,
   "id": "fb2afd29",
   "metadata": {},
   "outputs": [],
   "source": []
  }
 ],
 "metadata": {
  "kernelspec": {
   "display_name": "Python 3 (ipykernel)",
   "language": "python",
   "name": "python3"
  },
  "language_info": {
   "codemirror_mode": {
    "name": "ipython",
    "version": 3
   },
   "file_extension": ".py",
   "mimetype": "text/x-python",
   "name": "python",
   "nbconvert_exporter": "python",
   "pygments_lexer": "ipython3",
   "version": "3.9.12"
  }
 },
 "nbformat": 4,
 "nbformat_minor": 5
}
