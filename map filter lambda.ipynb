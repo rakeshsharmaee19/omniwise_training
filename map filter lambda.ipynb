{
 "cells": [
  {
   "cell_type": "code",
   "execution_count": 1,
   "id": "bd1941a3",
   "metadata": {},
   "outputs": [
    {
     "name": "stdout",
     "output_type": "stream",
     "text": [
      "[1, 4, 9, 16, 25, 36, 49, 64, 81]\n"
     ]
    }
   ],
   "source": [
    "#map function\n",
    "def square(num):\n",
    "    return num*num\n",
    "l=[1,2,3,4,5,6,7,8,9]\n",
    "print(list(map(square,l)))"
   ]
  },
  {
   "cell_type": "code",
   "execution_count": 6,
   "id": "9175a967",
   "metadata": {},
   "outputs": [
    {
     "name": "stdout",
     "output_type": "stream",
     "text": [
      "<map object at 0x00000251865FBE50>\n"
     ]
    }
   ],
   "source": [
    "#map function\n",
    "def square(num):\n",
    "    return num\n",
    "l=[1,2,3,4,5,6,7,8,9]\n",
    "print(str(map(square,'c')))"
   ]
  },
  {
   "cell_type": "code",
   "execution_count": 7,
   "id": "d8d0dc75",
   "metadata": {},
   "outputs": [
    {
     "name": "stdout",
     "output_type": "stream",
     "text": [
      "1 2 3 6 4 5 8 95 3\n"
     ]
    }
   ],
   "source": [
    "num=input().split(' ')"
   ]
  },
  {
   "cell_type": "code",
   "execution_count": 8,
   "id": "2eac2fc0",
   "metadata": {},
   "outputs": [
    {
     "data": {
      "text/plain": [
       "['1', '2', '3', '6', '4', '5', '8', '95', '3']"
      ]
     },
     "execution_count": 8,
     "metadata": {},
     "output_type": "execute_result"
    }
   ],
   "source": [
    "num"
   ]
  },
  {
   "cell_type": "code",
   "execution_count": 9,
   "id": "2ce71c54",
   "metadata": {},
   "outputs": [
    {
     "name": "stdout",
     "output_type": "stream",
     "text": [
      "1 2\n"
     ]
    }
   ],
   "source": [
    "a,b=list(map(int,input().split(' ')))"
   ]
  },
  {
   "cell_type": "code",
   "execution_count": 10,
   "id": "f2cba422",
   "metadata": {},
   "outputs": [
    {
     "data": {
      "text/plain": [
       "1"
      ]
     },
     "execution_count": 10,
     "metadata": {},
     "output_type": "execute_result"
    }
   ],
   "source": [
    "a"
   ]
  },
  {
   "cell_type": "code",
   "execution_count": 11,
   "id": "9fdca363",
   "metadata": {},
   "outputs": [
    {
     "data": {
      "text/plain": [
       "2"
      ]
     },
     "execution_count": 11,
     "metadata": {},
     "output_type": "execute_result"
    }
   ],
   "source": [
    "b"
   ]
  },
  {
   "cell_type": "code",
   "execution_count": 13,
   "id": "84bcbc1d",
   "metadata": {},
   "outputs": [
    {
     "ename": "TypeError",
     "evalue": "can't multiply sequence by non-int of type 'list'",
     "output_type": "error",
     "traceback": [
      "\u001b[1;31m---------------------------------------------------------------------------\u001b[0m",
      "\u001b[1;31mTypeError\u001b[0m                                 Traceback (most recent call last)",
      "Input \u001b[1;32mIn [13]\u001b[0m, in \u001b[0;36m<cell line: 1>\u001b[1;34m()\u001b[0m\n\u001b[1;32m----> 1\u001b[0m c\u001b[38;5;241m=\u001b[39m\u001b[38;5;28mlist\u001b[39m(\u001b[38;5;28mmap\u001b[39m(\u001b[43mnum\u001b[49m\u001b[38;5;241;43m*\u001b[39;49m\u001b[43mnum\u001b[49m,l))\n\u001b[0;32m      2\u001b[0m \u001b[38;5;28mprint\u001b[39m(c)\n",
      "\u001b[1;31mTypeError\u001b[0m: can't multiply sequence by non-int of type 'list'"
     ]
    }
   ],
   "source": [
    "c=list(map(num*num,l))\n",
    "print(c)"
   ]
  },
  {
   "cell_type": "code",
   "execution_count": 15,
   "id": "a3c0383c",
   "metadata": {},
   "outputs": [
    {
     "name": "stdout",
     "output_type": "stream",
     "text": [
      "[2, 4, 6, 8]\n"
     ]
    }
   ],
   "source": [
    "#filter function\n",
    "def evenNumber(numberList):\n",
    "    if numberList%2==0:\n",
    "        return True\n",
    "    else:\n",
    "        return False\n",
    "print(list(filter(evenNumber,l)))"
   ]
  },
  {
   "cell_type": "code",
   "execution_count": 19,
   "id": "02244f93",
   "metadata": {},
   "outputs": [
    {
     "name": "stdout",
     "output_type": "stream",
     "text": [
      "[3, 6, 9, 12, 15, 18, 21]\n"
     ]
    }
   ],
   "source": [
    "#Write a Python program to triple all numbers of a given list of integers. Use Python map.\n",
    "#sample list: [1, 2, 3, 4, 5, 6, 7]\n",
    "#Triple of list numbers:[3, 6, 9, 12, 15, 18, 21]\n",
    "inputList=[1, 2, 3, 4, 5, 6, 7]\n",
    "def tripleNumber(num):\n",
    "    return num*3\n",
    "print(list(map(tripleNumber,inputList)))"
   ]
  },
  {
   "cell_type": "code",
   "execution_count": 20,
   "id": "1a58a03d",
   "metadata": {},
   "outputs": [
    {
     "name": "stdout",
     "output_type": "stream",
     "text": [
      "9\n"
     ]
    }
   ],
   "source": [
    "#lambda function\n",
    "# it is an use and throw function\n",
    "synx lambda statment:return\n",
    "square=lambda x:x**2\n",
    "print(square(3))"
   ]
  },
  {
   "cell_type": "code",
   "execution_count": 25,
   "id": "474be0b9",
   "metadata": {},
   "outputs": [
    {
     "ename": "TypeError",
     "evalue": "<lambda>() missing 1 required positional argument: 'x'",
     "output_type": "error",
     "traceback": [
      "\u001b[1;31m---------------------------------------------------------------------------\u001b[0m",
      "\u001b[1;31mTypeError\u001b[0m                                 Traceback (most recent call last)",
      "Input \u001b[1;32mIn [25]\u001b[0m, in \u001b[0;36m<cell line: 2>\u001b[1;34m()\u001b[0m\n\u001b[0;32m      1\u001b[0m val\u001b[38;5;241m=\u001b[39m\u001b[38;5;28;01mlambda\u001b[39;00m x:\u001b[38;5;28mprint\u001b[39m(\u001b[38;5;124m'\u001b[39m\u001b[38;5;124mHello\u001b[39m\u001b[38;5;124m'\u001b[39m)\n\u001b[1;32m----> 2\u001b[0m \u001b[38;5;28mprint\u001b[39m(\u001b[43mval\u001b[49m\u001b[43m(\u001b[49m\u001b[43m)\u001b[49m)\n",
      "\u001b[1;31mTypeError\u001b[0m: <lambda>() missing 1 required positional argument: 'x'"
     ]
    }
   ],
   "source": [
    "#parametrize lambda function\n",
    "val=lambda x:print('Hello')\n",
    "print(val())"
   ]
  },
  {
   "cell_type": "code",
   "execution_count": 26,
   "id": "ada3c02c",
   "metadata": {},
   "outputs": [
    {
     "name": "stdout",
     "output_type": "stream",
     "text": [
      "Hello\n",
      "None\n"
     ]
    }
   ],
   "source": [
    "#parametreless lambda function\n",
    "val=lambda :print('Hello')\n",
    "print(val())"
   ]
  },
  {
   "cell_type": "code",
   "execution_count": 32,
   "id": "e82c1849",
   "metadata": {},
   "outputs": [
    {
     "name": "stdout",
     "output_type": "stream",
     "text": [
      "the number 1 is even :  False\n",
      "the number 2 is even :  True\n",
      "the number 3 is even :  False\n",
      "the number 4 is even :  True\n",
      "the number 5 is even :  False\n",
      "the number 6 is even :  True\n",
      "the number 7 is even :  False\n",
      "the number 8 is even :  True\n",
      "the number 9 is even :  False\n",
      "the number 5 is even :  False\n",
      "the number 2 is even :  True\n",
      "the number 1 is even :  False\n",
      "the number 54 is even :  True\n",
      "the number 56 is even :  True\n",
      "the number 2 is even :  True\n"
     ]
    }
   ],
   "source": [
    "#user of lambda function\n",
    "l=[1,2,3,4,5,6,7,8,9,5,2,1,54,56,2]\n",
    "#check wheather number is odd or even\n",
    "for i in l:\n",
    "    checkFun=lambda x:x%2==0\n",
    "    print(f'the number {i} is even : ',checkFun(i))"
   ]
  },
  {
   "cell_type": "code",
   "execution_count": 33,
   "id": "4ad2dbfe",
   "metadata": {},
   "outputs": [
    {
     "name": "stdout",
     "output_type": "stream",
     "text": [
      "[False, True, False, True, False, True, False, True, False, False, True, False, True, True, True]\n",
      "[2, 4, 6, 8, 2, 54, 56, 2]\n"
     ]
    }
   ],
   "source": [
    "#use of lambda with map() and filter()\n",
    "l=[1,2,3,4,5,6,7,8,9,5,2,1,54,56,2]\n",
    "#chech wheather number is odd or even\n",
    "print(list(map(lambda x:x%2==0,l)))\n",
    "print(list(filter(lambda x:x%2==0,l)))"
   ]
  },
  {
   "cell_type": "code",
   "execution_count": 34,
   "id": "208d5e69",
   "metadata": {},
   "outputs": [
    {
     "name": "stdout",
     "output_type": "stream",
     "text": [
      "1\n"
     ]
    }
   ],
   "source": [
    "#generator \n",
    "def sqr(n):\n",
    "    for i in range(1,n+1):\n",
    "        return i*i\n",
    "print(sqr(3))"
   ]
  },
  {
   "cell_type": "code",
   "execution_count": null,
   "id": "2f4d791d",
   "metadata": {},
   "outputs": [],
   "source": []
  }
 ],
 "metadata": {
  "kernelspec": {
   "display_name": "Python 3 (ipykernel)",
   "language": "python",
   "name": "python3"
  },
  "language_info": {
   "codemirror_mode": {
    "name": "ipython",
    "version": 3
   },
   "file_extension": ".py",
   "mimetype": "text/x-python",
   "name": "python",
   "nbconvert_exporter": "python",
   "pygments_lexer": "ipython3",
   "version": "3.9.12"
  }
 },
 "nbformat": 4,
 "nbformat_minor": 5
}
