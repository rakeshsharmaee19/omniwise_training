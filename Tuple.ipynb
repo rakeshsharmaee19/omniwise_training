{
 "cells": [
  {
   "cell_type": "code",
   "execution_count": null,
   "id": "31ff7798",
   "metadata": {},
   "outputs": [],
   "source": [
    "#creation of Tuple\n",
    "tupleOne=(2,3,6,54,8,2,8,2,58,4,56)\n",
    "print(type(tupleOne),tupleOne)\n",
    "tupleTwo=(2)\n",
    "print(type(tupleTwo))\n",
    "tupleThree=2,\n",
    "print(type(tupleThree))\n",
    "#the 'comma'(',') sign is importan for defining the tuple, if the comma is not there then it will not  consider as tuple"
   ]
  },
  {
   "cell_type": "code",
   "execution_count": null,
   "id": "88055588",
   "metadata": {},
   "outputs": [],
   "source": [
    "tupleThree=('rakesh',1,True)\n",
    "print(tupleThree)"
   ]
  },
  {
   "cell_type": "code",
   "execution_count": null,
   "id": "639e5f26",
   "metadata": {},
   "outputs": [],
   "source": [
    "tupleThree=(1,2)\n",
    "print(tupleThree)\n",
    "tupleThree=(3,5)\n",
    "print(tupleThree)"
   ]
  },
  {
   "cell_type": "code",
   "execution_count": null,
   "id": "8b214379",
   "metadata": {},
   "outputs": [],
   "source": [
    "#Accessing the elemetns of the tuple\n",
    "\n",
    "#indexing and slicing is possible\n",
    "\n",
    "#Accesing by indexing\n",
    "\n",
    "n=len(tupleOne)\n",
    "for i in range(n):\n",
    "    print(tupleOne[i],end=' ')\n",
    "print(end='\\n')\n",
    "\n",
    "#Accessing the element by jump of 2\n",
    "for i in range(0,n,2):\n",
    "    print(tupleOne[i],end='   ')\n",
    "print(end='\\n')\n",
    "\n",
    "#accessing the elemnt from randonm index\n",
    "for i in range(5,n,1):\n",
    "    print(tupleOne[i],end=' ')\n",
    "print(end='\\n')\n",
    "\n",
    "#Accesing the element from last in reverse\n",
    "for i in range(n-1,-1,-1):\n",
    "    print(tupleOne[i],end=' ')\n",
    "for i in range(n-1,-1,2):\n",
    "    print(tupleOne[i])"
   ]
  },
  {
   "cell_type": "raw",
   "id": "47d4efbd",
   "metadata": {},
   "source": [
    "#slicing\n",
    "print(tupleOne[::])\n",
    "print(tupleOne[1::])\n",
    "print(tupleOne[1::2])\n",
    "print(tupleOne[1:10:3])\n",
    "#negative slicing\n",
    "\n",
    "print(tupleOne[::-2])\n",
    "print(tupleOne[10:-1:-1])\n",
    "print(tupleOne[10:0:-1])\n",
    "print(len(tupleOne))\n",
    "#how to print 0th index in tuple"
   ]
  },
  {
   "cell_type": "code",
   "execution_count": 16,
   "id": "8ed41f94",
   "metadata": {},
   "outputs": [
    {
     "name": "stdout",
     "output_type": "stream",
     "text": [
      "['__add__', '__class__', '__class_getitem__', '__contains__', '__delattr__', '__dir__', '__doc__', '__eq__', '__format__', '__ge__', '__getattribute__', '__getitem__', '__getnewargs__', '__gt__', '__hash__', '__init__', '__init_subclass__', '__iter__', '__le__', '__len__', '__lt__', '__mul__', '__ne__', '__new__', '__reduce__', '__reduce_ex__', '__repr__', '__rmul__', '__setattr__', '__sizeof__', '__str__', '__subclasshook__', 'count', 'index']\n"
     ]
    }
   ],
   "source": [
    "print(dir(tuple))"
   ]
  },
  {
   "cell_type": "code",
   "execution_count": 17,
   "id": "50ebf62b",
   "metadata": {},
   "outputs": [
    {
     "ename": "NameError",
     "evalue": "name 'tupleOne' is not defined",
     "output_type": "error",
     "traceback": [
      "\u001b[1;31m---------------------------------------------------------------------------\u001b[0m",
      "\u001b[1;31mNameError\u001b[0m                                 Traceback (most recent call last)",
      "Input \u001b[1;32mIn [17]\u001b[0m, in \u001b[0;36m<cell line: 1>\u001b[1;34m()\u001b[0m\n\u001b[1;32m----> 1\u001b[0m \u001b[38;5;28mprint\u001b[39m(\u001b[43mtupleOne\u001b[49m\u001b[38;5;241m.\u001b[39m\u001b[38;5;21m__len__\u001b[39m())\n",
      "\u001b[1;31mNameError\u001b[0m: name 'tupleOne' is not defined"
     ]
    }
   ],
   "source": [
    "print(tupleOne.__len__())"
   ]
  },
  {
   "cell_type": "markdown",
   "id": "2c0159a2",
   "metadata": {},
   "source": [
    "## Upadting a tuple\n",
    "# A tuple is immutable we can't change any tuple we can only update the mutable element into the tuple.\n",
    "a=1,2,3,4,5,5,6\n",
    "print(a.pop())\n",
    "a=1,2,3,4,5,5,6\n",
    "print(a.append(7))\n",
    "a=1,58,7,2,8,2,[1,5,8,6,78]\n",
    "a[-1].pop()\n",
    "a=1,58,7,2,8,2,[1,5,8,6,78]\n",
    "a[-1].pop(2)\n",
    "a[-1].append('rakesh')"
   ]
  },
  {
   "cell_type": "code",
   "execution_count": 21,
   "id": "556910ed",
   "metadata": {},
   "outputs": [
    {
     "ename": "AttributeError",
     "evalue": "'tuple' object has no attribute 'append'",
     "output_type": "error",
     "traceback": [
      "\u001b[1;31m---------------------------------------------------------------------------\u001b[0m",
      "\u001b[1;31mAttributeError\u001b[0m                            Traceback (most recent call last)",
      "Input \u001b[1;32mIn [21]\u001b[0m, in \u001b[0;36m<cell line: 2>\u001b[1;34m()\u001b[0m\n\u001b[0;32m      1\u001b[0m a\u001b[38;5;241m=\u001b[39m\u001b[38;5;241m1\u001b[39m,\u001b[38;5;241m2\u001b[39m,\u001b[38;5;241m3\u001b[39m,\u001b[38;5;241m4\u001b[39m,\u001b[38;5;241m5\u001b[39m,\u001b[38;5;241m5\u001b[39m,\u001b[38;5;241m6\u001b[39m\n\u001b[1;32m----> 2\u001b[0m \u001b[38;5;28mprint\u001b[39m(\u001b[43ma\u001b[49m\u001b[38;5;241;43m.\u001b[39;49m\u001b[43mappend\u001b[49m(\u001b[38;5;241m7\u001b[39m))\n",
      "\u001b[1;31mAttributeError\u001b[0m: 'tuple' object has no attribute 'append'"
     ]
    }
   ],
   "source": [
    "a=1,2,3,4,5,5,6\n",
    "print(a.append(7))"
   ]
  },
  {
   "cell_type": "code",
   "execution_count": 20,
   "id": "bb001fa8",
   "metadata": {},
   "outputs": [
    {
     "data": {
      "text/plain": [
       "78"
      ]
     },
     "execution_count": 20,
     "metadata": {},
     "output_type": "execute_result"
    }
   ],
   "source": [
    "a=1,58,7,2,8,2,[1,5,8,6,78]\n",
    "a[-1].pop()"
   ]
  },
  {
   "cell_type": "code",
   "execution_count": 24,
   "id": "2b3ae280",
   "metadata": {},
   "outputs": [
    {
     "data": {
      "text/plain": [
       "8"
      ]
     },
     "execution_count": 24,
     "metadata": {},
     "output_type": "execute_result"
    }
   ],
   "source": [
    "a=1,58,7,2,8,2,[1,5,8,6,78]\n",
    "a[-1].pop(2)"
   ]
  },
  {
   "cell_type": "code",
   "execution_count": 18,
   "id": "1197d5fc",
   "metadata": {},
   "outputs": [
    {
     "name": "stdout",
     "output_type": "stream",
     "text": [
      "(1, 58, 7, 2, 8, 2, [1, 5, 6, 78, 'rakesh', 'rakesh'])\n"
     ]
    }
   ],
   "source": [
    "a[-1].append('rakesh')\n",
    "print(a)"
   ]
  },
  {
   "cell_type": "code",
   "execution_count": 26,
   "id": "77ad1090",
   "metadata": {},
   "outputs": [
    {
     "ename": "TypeError",
     "evalue": "'>' not supported between instances of 'list' and 'int'",
     "output_type": "error",
     "traceback": [
      "\u001b[1;31m---------------------------------------------------------------------------\u001b[0m",
      "\u001b[1;31mTypeError\u001b[0m                                 Traceback (most recent call last)",
      "Input \u001b[1;32mIn [26]\u001b[0m, in \u001b[0;36m<cell line: 1>\u001b[1;34m()\u001b[0m\n\u001b[1;32m----> 1\u001b[0m \u001b[38;5;28mprint\u001b[39m(\u001b[38;5;28;43mmax\u001b[39;49m\u001b[43m(\u001b[49m\u001b[43ma\u001b[49m\u001b[43m)\u001b[49m)\n\u001b[0;32m      2\u001b[0m \u001b[38;5;28mprint\u001b[39m(a)\n",
      "\u001b[1;31mTypeError\u001b[0m: '>' not supported between instances of 'list' and 'int'"
     ]
    }
   ],
   "source": [
    "print(max(a))\n",
    "print(a)\n",
    "#we can only use max() for same data type"
   ]
  },
  {
   "cell_type": "code",
   "execution_count": 29,
   "id": "5b75cbc5",
   "metadata": {},
   "outputs": [
    {
     "name": "stdout",
     "output_type": "stream",
     "text": [
      "(1, 58, 7, 2, 8, 2, [1, 5, 6, 78], 1, 2, 3, 6, 8, 5, 9)\n",
      "(1, 58, 7, 2, 8, 2, [1, 5, 6, 78], 1, 58, 7, 2, 8, 2, [1, 5, 6, 78])\n",
      "1\n",
      "58\n",
      "7\n",
      "2\n",
      "8\n",
      "2\n",
      "[1, 5, 6, 78]\n"
     ]
    }
   ],
   "source": [
    "#Operation on tuples\n",
    "print(a+(1,2,3,6,8,5,9))\n",
    "\n",
    "print(a*2)\n",
    "\n",
    "for i in a:\n",
    "    print(i)\n",
    "\n"
   ]
  },
  {
   "cell_type": "code",
   "execution_count": 35,
   "id": "c15ba7e6",
   "metadata": {},
   "outputs": [
    {
     "name": "stdout",
     "output_type": "stream",
     "text": [
      "<class 'tuple'>\n",
      "[1, 2, 3, 4, 5, 5, 6]\n",
      "<class 'list'>\n"
     ]
    }
   ],
   "source": [
    "b=(1,2,3,4,5,5,6)\n",
    "print(type(b))\n",
    "print(sorted(b))\n",
    "print(type(sorted(b)))"
   ]
  },
  {
   "cell_type": "code",
   "execution_count": 40,
   "id": "af322f04",
   "metadata": {},
   "outputs": [
    {
     "name": "stdout",
     "output_type": "stream",
     "text": [
      "[(2, 1), (1, 2), (2, 3), (4, 4), (2, 5)]\n",
      "[(2, 1), (1, 2), (2, 3), (4, 4), (2, 5)]\n"
     ]
    }
   ],
   "source": [
    "#Write a Python program to get a list, sorted in increasing order by the last element in each tuple from a given list of non-empty tuples\n",
    "#Sample List : [(2, 5), (1, 2), (4, 4), (2, 3), (2, 1)]\n",
    "#Expected Result : [(2, 1), (1, 2), (2, 3), (4, 4), (2, 5)]\n",
    "\n",
    "#Method 1\n",
    "t=[(2,5),(1,2),(4,4),(2,3),(2,1)]\n",
    "for i in range(5):\n",
    "    for j in range(4):\n",
    "        if t[j][1]>t[j+1][1]:\n",
    "            t[j],t[j+1]=t[j+1],t[j]\n",
    "print(t)\n",
    "#Method 2\n",
    "def lst(tuples):\n",
    "    return sorted(tuples, key=last)   \n",
    "print(lst([(2,5),(1,2),(4,4),(2,3),(2,1)]))\n",
    "\n",
    "\n"
   ]
  }
 ],
 "metadata": {
  "kernelspec": {
   "display_name": "Python 3 (ipykernel)",
   "language": "python",
   "name": "python3"
  },
  "language_info": {
   "codemirror_mode": {
    "name": "ipython",
    "version": 3
   },
   "file_extension": ".py",
   "mimetype": "text/x-python",
   "name": "python",
   "nbconvert_exporter": "python",
   "pygments_lexer": "ipython3",
   "version": "3.9.12"
  }
 },
 "nbformat": 4,
 "nbformat_minor": 5
}
