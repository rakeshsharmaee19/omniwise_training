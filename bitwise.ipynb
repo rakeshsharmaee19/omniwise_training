{
 "cells": [
  {
   "cell_type": "code",
   "execution_count": 1,
   "id": "681fb815",
   "metadata": {},
   "outputs": [],
   "source": [
    "#binary Function\n",
    "def binaryFunction(number):\n",
    "    binaryResult=''\n",
    "    if number>=0:\n",
    "        while number!=0:\n",
    "            binaryResult=str(number%2)+binaryResult\n",
    "            number=number//2\n",
    "    else:\n",
    "        while number!=0:\n",
    "            if number%2==0:\n",
    "                binaryResult=str(number%2)+binaryResult\n",
    "                number=number//2\n",
    "            else:\n",
    "                binaryResult=str(number%2)+binaryResult\n",
    "                number=(number//2)+1\n",
    "    return binaryResult"
   ]
  },
  {
   "cell_type": "code",
   "execution_count": 8,
   "id": "734ab7a8",
   "metadata": {},
   "outputs": [
    {
     "name": "stdout",
     "output_type": "stream",
     "text": [
      "enter the first number: 5\n",
      "101\n",
      "enter the second number: 4\n",
      "100\n",
      "4\n",
      "100\n"
     ]
    }
   ],
   "source": [
    "#& binary AND\n",
    "numberOne=int(input('enter the first number: '))\n",
    "print(binaryFunction(numberOne))\n",
    "numberTwo=int(input('enter the second number: '))\n",
    "print(binaryFunction(numberTwo))\n",
    "operationResult=0\n",
    "operationResult=numberOne & numberTwo\n",
    "print(operationResult)\n",
    "print(binaryFunction(operationResult))"
   ]
  },
  {
   "cell_type": "code",
   "execution_count": 9,
   "id": "a2d85fba",
   "metadata": {},
   "outputs": [
    {
     "name": "stdout",
     "output_type": "stream",
     "text": [
      "enter the first number: 10\n",
      "1010\n",
      "enter the second number: 20\n",
      "10100\n",
      "30\n",
      "11110\n"
     ]
    }
   ],
   "source": [
    "#| binary OR \n",
    "numberOne=int(input('enter the first number: '))\n",
    "print(binaryFunction(numberOne))\n",
    "numberTwo=int(input('enter the second number: '))\n",
    "print(binaryFunction(numberTwo))\n",
    "operationResult=0\n",
    "operationResult=numberOne | numberTwo\n",
    "print(operationResult)\n",
    "print(binaryFunction(operationResult))"
   ]
  },
  {
   "cell_type": "code",
   "execution_count": 10,
   "id": "238bb4f5",
   "metadata": {},
   "outputs": [
    {
     "name": "stdout",
     "output_type": "stream",
     "text": [
      "enter the first number: 60\n",
      "111100\n",
      "enter the second number: 13\n",
      "1101\n",
      "49\n",
      "110001\n"
     ]
    }
   ],
   "source": [
    "#XOR\n",
    "numberOne=int(input('enter the first number: '))\n",
    "print(binaryFunction(numberOne))\n",
    "numberTwo=int(input('enter the second number: '))\n",
    "print(binaryFunction(numberTwo))\n",
    "operationResult=0\n",
    "operationResult=numberOne ^ numberTwo\n",
    "print(operationResult)\n",
    "print(binaryFunction(operationResult))"
   ]
  },
  {
   "cell_type": "code",
   "execution_count": 13,
   "id": "c97119f2",
   "metadata": {},
   "outputs": [
    {
     "name": "stdout",
     "output_type": "stream",
     "text": [
      "enter the first number: 10\n",
      "1010\n",
      "enter the second number: 3\n",
      "11\n",
      "80\n",
      "1010000\n"
     ]
    }
   ],
   "source": [
    "#<< binary left sift\n",
    "numberOne=int(input('enter the first number: '))\n",
    "print(binaryFunction(numberOne))\n",
    "numberTwo=int(input('enter the second number: '))\n",
    "print(binaryFunction(numberTwo))\n",
    "operationResult=0\n",
    "operationResult=numberOne << numberTwo\n",
    "print(operationResult)\n",
    "print(binaryFunction(operationResult))"
   ]
  },
  {
   "cell_type": "code",
   "execution_count": 12,
   "id": "5ad8a28c",
   "metadata": {},
   "outputs": [
    {
     "name": "stdout",
     "output_type": "stream",
     "text": [
      "enter the first number: 10\n",
      "1010\n",
      "enter the second number: 1\n",
      "1\n",
      "5\n",
      "101\n"
     ]
    }
   ],
   "source": [
    "#>> binary right shift\n",
    "numberOne=int(input('enter the first number: '))\n",
    "print(binaryFunction(numberOne))\n",
    "numberTwo=int(input('enter the second number: '))\n",
    "print(binaryFunction(numberTwo))\n",
    "operationResult=0\n",
    "operationResult=numberOne >> numberTwo\n",
    "print(operationResult)\n",
    "print(binaryFunction(operationResult))"
   ]
  },
  {
   "cell_type": "code",
   "execution_count": null,
   "id": "84ab9603",
   "metadata": {},
   "outputs": [],
   "source": []
  }
 ],
 "metadata": {
  "kernelspec": {
   "display_name": "Python 3 (ipykernel)",
   "language": "python",
   "name": "python3"
  },
  "language_info": {
   "codemirror_mode": {
    "name": "ipython",
    "version": 3
   },
   "file_extension": ".py",
   "mimetype": "text/x-python",
   "name": "python",
   "nbconvert_exporter": "python",
   "pygments_lexer": "ipython3",
   "version": "3.9.12"
  }
 },
 "nbformat": 4,
 "nbformat_minor": 5
}
