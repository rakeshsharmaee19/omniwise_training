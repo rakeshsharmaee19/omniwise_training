{
 "cells": [
  {
   "cell_type": "code",
   "execution_count": 3,
   "id": "72c20f8d",
   "metadata": {},
   "outputs": [
    {
     "name": "stdout",
     "output_type": "stream",
     "text": [
      "0     8.0\n",
      "1     5.0\n",
      "2     9.0\n",
      "3    13.0\n",
      "4    17.0\n",
      "5     NaN\n",
      "dtype: float64\n",
      "0   -4.0\n",
      "1    3.0\n",
      "2    3.0\n",
      "3    3.0\n",
      "4    3.0\n",
      "5    NaN\n",
      "dtype: float64\n",
      "0    12.0\n",
      "1     4.0\n",
      "2    18.0\n",
      "3    40.0\n",
      "4    70.0\n",
      "5     NaN\n",
      "dtype: float64\n",
      "0    0.333333\n",
      "1    4.000000\n",
      "2    2.000000\n",
      "3    1.600000\n",
      "4    1.428571\n",
      "5         NaN\n",
      "dtype: float64\n"
     ]
    }
   ],
   "source": [
    "import pandas as pd\n",
    "import numpy as np\n",
    "#Write a Pandas program to add, subtract, multiple and divide two Pandas Series.\n",
    "#Sample Series: [2, 4, 6, 8, 10], [1, 3, 5, 7, 9]\n",
    "ds1=pd.Series([2,4,6,8,10])\n",
    "ds2=pd.Series([6,1,3,5,7,9])\n",
    "print(ds1+ds2)\n",
    "print(ds1-ds2)\n",
    "print(ds1*ds2)\n",
    "print(ds1/ds2)"
   ]
  },
  {
   "cell_type": "code",
   "execution_count": 8,
   "id": "cc492863",
   "metadata": {},
   "outputs": [
    {
     "name": "stdout",
     "output_type": "stream",
     "text": [
      "0     2\n",
      "1     4\n",
      "2     6\n",
      "3     8\n",
      "4    10\n",
      "dtype: int64\n",
      "0    1\n",
      "1    3\n",
      "2    5\n",
      "3    7\n",
      "4    9\n",
      "dtype: int64\n",
      "0    False\n",
      "1    False\n",
      "2    False\n",
      "3    False\n",
      "4    False\n",
      "dtype: bool\n",
      "0    True\n",
      "1    True\n",
      "2    True\n",
      "3    True\n",
      "4    True\n",
      "dtype: bool\n",
      "0    False\n",
      "1    False\n",
      "2    False\n",
      "3    False\n",
      "4    False\n",
      "dtype: bool\n"
     ]
    }
   ],
   "source": [
    "#Write a Pandas program to compare the elements of the two Pandas Series.\n",
    "#Sample Series: [2, 4, 6, 8, 10], [1, 3, 5, 7, 10]\n",
    "ds1=pd.Series([2,4,6,8,10])\n",
    "ds2=pd.Series([1,3,5,7,9])\n",
    "print(ds1)\n",
    "print(ds2)\n",
    "# for any comparision the len of both the series is same\n",
    "print(ds1==ds2)\n",
    "print(ds1>ds2)\n",
    "print(ds1<ds2)"
   ]
  },
  {
   "cell_type": "code",
   "execution_count": 10,
   "id": "80c16da7",
   "metadata": {},
   "outputs": [
    {
     "name": "stdout",
     "output_type": "stream",
     "text": [
      "0    10\n",
      "1    20\n",
      "2     3\n",
      "3     0\n",
      "4    40\n",
      "5    50\n",
      "dtype: int32\n"
     ]
    }
   ],
   "source": [
    "#Write a Pandas program to convert a NumPy array to a Pandas series.\n",
    "#NumPy array:[10 20 30 40 50]\n",
    "npArray=np.array([10,20,3,0,40,50])\n",
    "pdArray=pd.Series(npArray)\n",
    "print(pdArray)"
   ]
  },
  {
   "cell_type": "markdown",
   "id": "63b19122",
   "metadata": {},
   "source": [
    "        #Write a Pandas program to change the data type of given a column or a Series\n",
    "Original Data Series:\n",
    "0 100\n",
    "1 200\n",
    "2 python\n",
    "3 300.12\n",
    "4 400\n",
    "dtype: object\n",
    "Change the said data type to numeric:\n",
    "0 100.00\n",
    "1 200.00\n",
    "2 NaN\n",
    "3 300.12\n",
    "4 400.00\n",
    "dtype: float64"
   ]
  },
  {
   "cell_type": "code",
   "execution_count": 21,
   "id": "e1cb77d8",
   "metadata": {},
   "outputs": [
    {
     "data": {
      "text/plain": [
       "0    100.00\n",
       "1    200.00\n",
       "2     40.00\n",
       "3    300.12\n",
       "4    400.00\n",
       "dtype: float64"
      ]
     },
     "execution_count": 21,
     "metadata": {},
     "output_type": "execute_result"
    }
   ],
   "source": [
    "npArray = [100,200.0,'40',300.12,400]\n",
    "pd.to_numeric(pd.Series(npArray))"
   ]
  },
  {
   "cell_type": "code",
   "execution_count": null,
   "id": "0a95f5c0",
   "metadata": {},
   "outputs": [],
   "source": []
  }
 ],
 "metadata": {
  "kernelspec": {
   "display_name": "Python 3 (ipykernel)",
   "language": "python",
   "name": "python3"
  },
  "language_info": {
   "codemirror_mode": {
    "name": "ipython",
    "version": 3
   },
   "file_extension": ".py",
   "mimetype": "text/x-python",
   "name": "python",
   "nbconvert_exporter": "python",
   "pygments_lexer": "ipython3",
   "version": "3.9.12"
  }
 },
 "nbformat": 4,
 "nbformat_minor": 5
}
